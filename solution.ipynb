{
 "cells": [
  {
   "cell_type": "code",
   "execution_count": 2,
   "id": "0969d04f",
   "metadata": {
    "execution": {
     "iopub.execute_input": "2023-04-15T05:31:17.667536Z",
     "iopub.status.busy": "2023-04-15T05:31:17.667024Z",
     "iopub.status.idle": "2023-04-15T05:31:25.968633Z",
     "shell.execute_reply": "2023-04-15T05:31:25.967543Z",
     "shell.execute_reply.started": "2023-04-15T05:31:17.667491Z"
    }
   },
   "outputs": [],
   "source": [
    "import numpy as np\n",
    "import tensorflow as tf\n",
    "from tensorflow.keras import layers, metrics, losses, datasets, Sequential, optimizers"
   ]
  },
  {
   "cell_type": "code",
   "execution_count": 4,
   "id": "f09d93a1",
   "metadata": {
    "execution": {
     "iopub.execute_input": "2023-04-15T05:31:28.407076Z",
     "iopub.status.busy": "2023-04-15T05:31:28.406710Z",
     "iopub.status.idle": "2023-04-15T05:31:44.849255Z",
     "shell.execute_reply": "2023-04-15T05:31:44.847987Z",
     "shell.execute_reply.started": "2023-04-15T05:31:28.407037Z"
    }
   },
   "outputs": [
    {
     "name": "stdout",
     "output_type": "stream",
     "text": [
      "Downloading data from https://www.cs.toronto.edu/~kriz/cifar-10-python.tar.gz\n",
      "170498071/170498071 [==============================] - 14s 0us/step\n"
     ]
    }
   ],
   "source": [
    "\n",
    "cifar10 = datasets.cifar10\n",
    " \n",
    "(x_train, y_train), (x_remaining, y_remaining) = cifar10.load_data()"
   ]
  },
  {
   "cell_type": "code",
   "execution_count": 37,
   "id": "93edcb94",
   "metadata": {
    "execution": {
     "iopub.execute_input": "2023-04-15T06:00:36.055237Z",
     "iopub.status.busy": "2023-04-15T06:00:36.054620Z",
     "iopub.status.idle": "2023-04-15T06:00:38.162848Z",
     "shell.execute_reply": "2023-04-15T06:00:38.161772Z",
     "shell.execute_reply.started": "2023-04-15T06:00:36.055201Z"
    }
   },
   "outputs": [],
   "source": [
    "\n",
    "mean = np.mean(x_train, axis=(0, 1, 2)) \n",
    "stddev = np.std(x_train, axis=(0, 1, 2))\n",
    "\n",
    "\n",
    "x_train = (x_train - mean) / stddev\n",
    "\n",
    "x_remaining = (x_remaining - mean) / stddev"
   ]
  },
  {
   "cell_type": "code",
   "execution_count": 38,
   "id": "3954bb89",
   "metadata": {
    "execution": {
     "iopub.execute_input": "2023-04-15T06:00:39.626525Z",
     "iopub.status.busy": "2023-04-15T06:00:39.626157Z",
     "iopub.status.idle": "2023-04-15T06:00:39.634401Z",
     "shell.execute_reply": "2023-04-15T06:00:39.633087Z",
     "shell.execute_reply.started": "2023-04-15T06:00:39.626493Z"
    }
   },
   "outputs": [
    {
     "data": {
      "text/plain": [
       "((50000, 32, 32, 3), (50000, 1))"
      ]
     },
     "execution_count": 38,
     "metadata": {},
     "output_type": "execute_result"
    }
   ],
   "source": [
    "x_train.shape, y_train.shape"
   ]
  },
  {
   "cell_type": "code",
   "execution_count": 39,
   "id": "fe2ad20d",
   "metadata": {
    "execution": {
     "iopub.execute_input": "2023-04-15T06:00:40.261212Z",
     "iopub.status.busy": "2023-04-15T06:00:40.260496Z",
     "iopub.status.idle": "2023-04-15T06:00:40.268250Z",
     "shell.execute_reply": "2023-04-15T06:00:40.267048Z",
     "shell.execute_reply.started": "2023-04-15T06:00:40.261174Z"
    }
   },
   "outputs": [
    {
     "data": {
      "text/plain": [
       "(10000, 32, 32, 3)"
      ]
     },
     "execution_count": 39,
     "metadata": {},
     "output_type": "execute_result"
    }
   ],
   "source": [
    "x_remaining.shape"
   ]
  },
  {
   "cell_type": "code",
   "execution_count": 40,
   "id": "0c14d8e3",
   "metadata": {
    "execution": {
     "iopub.execute_input": "2023-04-15T06:00:41.108329Z",
     "iopub.status.busy": "2023-04-15T06:00:41.107736Z",
     "iopub.status.idle": "2023-04-15T06:00:41.113920Z",
     "shell.execute_reply": "2023-04-15T06:00:41.112696Z",
     "shell.execute_reply.started": "2023-04-15T06:00:41.108294Z"
    }
   },
   "outputs": [],
   "source": [
    "\n",
    "index = np.arange(10000)\n",
    "np.random.shuffle(index)"
   ]
  },
  {
   "cell_type": "code",
   "execution_count": 41,
   "id": "7455de2c",
   "metadata": {
    "execution": {
     "iopub.execute_input": "2023-04-15T06:00:41.724589Z",
     "iopub.status.busy": "2023-04-15T06:00:41.723425Z",
     "iopub.status.idle": "2023-04-15T06:00:41.804706Z",
     "shell.execute_reply": "2023-04-15T06:00:41.803665Z",
     "shell.execute_reply.started": "2023-04-15T06:00:41.724528Z"
    }
   },
   "outputs": [],
   "source": [
    "\n",
    "x_val, y_val = x_remaining[index[:5000]], y_remaining[index[:5000]]\n",
    "x_test, y_test = x_remaining[index[5000:]], y_remaining[index[5000:]]"
   ]
  },
  {
   "cell_type": "code",
   "execution_count": 42,
   "id": "db384260",
   "metadata": {
    "execution": {
     "iopub.execute_input": "2023-04-15T06:00:43.197858Z",
     "iopub.status.busy": "2023-04-15T06:00:43.197382Z",
     "iopub.status.idle": "2023-04-15T06:00:43.279471Z",
     "shell.execute_reply": "2023-04-15T06:00:43.278488Z",
     "shell.execute_reply.started": "2023-04-15T06:00:43.197823Z"
    }
   },
   "outputs": [],
   "source": [
    "model = Sequential((\n",
    "    layers.Conv2D(32, kernel_size=3, input_shape=(32,32,3), activation='relu'),\n",
    "    layers.MaxPool2D(2),\n",
    "    layers.Conv2D(64, kernel_size=2, activation='relu'),\n",
    "    layers.MaxPool2D(2),\n",
    "    layers.Conv2D(128, kernel_size=2, activation='relu'),\n",
    "    layers.MaxPool2D(2),\n",
    "    layers.Flatten(),\n",
    "    layers.Dense(512, activation='relu'),\n",
    "    layers.Dense(128, activation='relu'),\n",
    "    layers.Dense(10, activation='softmax')\n",
    "))"
   ]
  },
  {
   "cell_type": "code",
   "execution_count": 43,
   "id": "0360ffd9",
   "metadata": {
    "execution": {
     "iopub.execute_input": "2023-04-15T06:00:47.599498Z",
     "iopub.status.busy": "2023-04-15T06:00:47.598858Z",
     "iopub.status.idle": "2023-04-15T06:01:47.167919Z",
     "shell.execute_reply": "2023-04-15T06:01:47.166937Z",
     "shell.execute_reply.started": "2023-04-15T06:00:47.599458Z"
    }
   },
   "outputs": [
    {
     "name": "stdout",
     "output_type": "stream",
     "text": [
      "Epoch 1/25\n",
      "391/391 [==============================] - 4s 6ms/step - loss: 1.6803 - accuracy: 0.3883 - val_loss: 1.4148 - val_accuracy: 0.4790\n",
      "Epoch 2/25\n",
      "391/391 [==============================] - 2s 6ms/step - loss: 1.4095 - accuracy: 0.4888 - val_loss: 1.3959 - val_accuracy: 0.4902\n",
      "Epoch 3/25\n",
      "391/391 [==============================] - 2s 5ms/step - loss: 1.3222 - accuracy: 0.5244 - val_loss: 1.2949 - val_accuracy: 0.5348\n",
      "Epoch 4/25\n",
      "391/391 [==============================] - 2s 6ms/step - loss: 1.2623 - accuracy: 0.5490 - val_loss: 1.3056 - val_accuracy: 0.5372\n",
      "Epoch 5/25\n",
      "391/391 [==============================] - 2s 6ms/step - loss: 1.2290 - accuracy: 0.5653 - val_loss: 1.2642 - val_accuracy: 0.5592\n",
      "Epoch 6/25\n",
      "391/391 [==============================] - 2s 6ms/step - loss: 1.1947 - accuracy: 0.5777 - val_loss: 1.1871 - val_accuracy: 0.5868\n",
      "Epoch 7/25\n",
      "391/391 [==============================] - 2s 5ms/step - loss: 1.1614 - accuracy: 0.5923 - val_loss: 1.2082 - val_accuracy: 0.5692\n",
      "Epoch 8/25\n",
      "391/391 [==============================] - 2s 6ms/step - loss: 1.1385 - accuracy: 0.6000 - val_loss: 1.1621 - val_accuracy: 0.5996\n",
      "Epoch 9/25\n",
      "391/391 [==============================] - 2s 5ms/step - loss: 1.1186 - accuracy: 0.6067 - val_loss: 1.1636 - val_accuracy: 0.5918\n",
      "Epoch 10/25\n",
      "391/391 [==============================] - 2s 6ms/step - loss: 1.1190 - accuracy: 0.6067 - val_loss: 1.1570 - val_accuracy: 0.5938\n",
      "Epoch 11/25\n",
      "391/391 [==============================] - 2s 6ms/step - loss: 1.1021 - accuracy: 0.6141 - val_loss: 1.1586 - val_accuracy: 0.5888\n",
      "Epoch 12/25\n",
      "391/391 [==============================] - 2s 6ms/step - loss: 1.0879 - accuracy: 0.6196 - val_loss: 1.1998 - val_accuracy: 0.5914\n",
      "Epoch 13/25\n",
      "391/391 [==============================] - 3s 7ms/step - loss: 1.0767 - accuracy: 0.6246 - val_loss: 1.1607 - val_accuracy: 0.5898\n",
      "Epoch 14/25\n",
      "391/391 [==============================] - 2s 6ms/step - loss: 1.0683 - accuracy: 0.6265 - val_loss: 1.1644 - val_accuracy: 0.5964\n",
      "Epoch 15/25\n",
      "391/391 [==============================] - 2s 6ms/step - loss: 1.0686 - accuracy: 0.6261 - val_loss: 1.1580 - val_accuracy: 0.5966\n",
      "Epoch 16/25\n",
      "391/391 [==============================] - 2s 6ms/step - loss: 1.0452 - accuracy: 0.6332 - val_loss: 1.1395 - val_accuracy: 0.6154\n",
      "Epoch 17/25\n",
      "391/391 [==============================] - 2s 5ms/step - loss: 1.0477 - accuracy: 0.6345 - val_loss: 1.1289 - val_accuracy: 0.6116\n",
      "Epoch 18/25\n",
      "391/391 [==============================] - 2s 5ms/step - loss: 1.0345 - accuracy: 0.6393 - val_loss: 1.1678 - val_accuracy: 0.6038\n",
      "Epoch 19/25\n",
      "391/391 [==============================] - 2s 5ms/step - loss: 1.0267 - accuracy: 0.6405 - val_loss: 1.1733 - val_accuracy: 0.5904\n",
      "Epoch 20/25\n",
      "391/391 [==============================] - 2s 6ms/step - loss: 1.0213 - accuracy: 0.6438 - val_loss: 1.1570 - val_accuracy: 0.6068\n",
      "Epoch 21/25\n",
      "391/391 [==============================] - 2s 6ms/step - loss: 1.0077 - accuracy: 0.6488 - val_loss: 1.1738 - val_accuracy: 0.5882\n",
      "Epoch 22/25\n",
      "391/391 [==============================] - 2s 5ms/step - loss: 1.0148 - accuracy: 0.6512 - val_loss: 1.1356 - val_accuracy: 0.6186\n",
      "Epoch 23/25\n",
      "391/391 [==============================] - 2s 6ms/step - loss: 0.9942 - accuracy: 0.6542 - val_loss: 1.2462 - val_accuracy: 0.5794\n",
      "Epoch 24/25\n",
      "391/391 [==============================] - 2s 6ms/step - loss: 0.9813 - accuracy: 0.6589 - val_loss: 1.2003 - val_accuracy: 0.5952\n",
      "Epoch 25/25\n",
      "391/391 [==============================] - 2s 6ms/step - loss: 0.9887 - accuracy: 0.6548 - val_loss: 1.1491 - val_accuracy: 0.6118\n"
     ]
    },
    {
     "data": {
      "text/plain": [
       "<keras.callbacks.History at 0x7331c0ae7790>"
      ]
     },
     "execution_count": 43,
     "metadata": {},
     "output_type": "execute_result"
    }
   ],
   "source": [
    "loss = losses.SparseCategoricalCrossentropy()\n",
    "optimizer = optimizers.Adam(learning_rate=0.01)\n",
    "\n",
    "model.compile(loss=loss, optimizer=optimizer, metrics='accuracy')\n",
    "\n",
    "model.fit(x_train, y_train, epochs=25, batch_size=128,\n",
    "          validation_data=(x_val, y_val), validation_batch_size=64)"
   ]
  },
  {
   "cell_type": "code",
   "execution_count": 44,
   "id": "448fb5f0",
   "metadata": {
    "execution": {
     "iopub.execute_input": "2023-04-15T06:03:10.448203Z",
     "iopub.status.busy": "2023-04-15T06:03:10.447461Z",
     "iopub.status.idle": "2023-04-15T06:03:11.374298Z",
     "shell.execute_reply": "2023-04-15T06:03:11.373099Z",
     "shell.execute_reply.started": "2023-04-15T06:03:10.448160Z"
    }
   },
   "outputs": [
    {
     "name": "stdout",
     "output_type": "stream",
     "text": [
      "157/157 [==============================] - 0s 2ms/step\n",
      "Test Accuracy: \n",
      "62.38\n"
     ]
    }
   ],
   "source": [
    "\n",
    "prediction = model.predict(x_test)\n",
    "print('Test Accuracy: ')\n",
    "print((np.argmax(prediction, axis=1) == y_test.reshape(-1)).mean() * 100)"
   ]
  },
  {
   "cell_type": "code",
   "execution_count": null,
   "id": "ffbcc302",
   "metadata": {},
   "outputs": [],
   "source": []
  },
  {
   "cell_type": "code",
   "execution_count": null,
   "id": "f4358f6d",
   "metadata": {},
   "outputs": [],
   "source": []
  }
 ],
 "metadata": {
  "kernelspec": {
   "display_name": "Python 3 (ipykernel)",
   "language": "python",
   "name": "python3"
  },
  "language_info": {
   "codemirror_mode": {
    "name": "ipython",
    "version": 3
   },
   "file_extension": ".py",
   "mimetype": "text/x-python",
   "name": "python",
   "nbconvert_exporter": "python",
   "pygments_lexer": "ipython3",
   "version": "3.9.12"
  }
 },
 "nbformat": 4,
 "nbformat_minor": 5
}
